{
 "cells": [
  {
   "cell_type": "markdown",
   "metadata": {
    "id": "rEfB-NFtPngw",
    "pycharm": {
     "name": "#%% md\n"
    }
   },
   "source": [
    "___\n",
    "\n",
    "\n",
    "# Energy Informatics 2 Excercise 2025\n",
    "## Exercise 9 & 10 - Dataanalysis & Forecasting</span>\n",
    "\n",
    "___\n",
    "\n"
   ]
  },
  {
   "cell_type": "markdown",
   "metadata": {},
   "source": [
    "# **1. Introduction**\n",
    "\n",
    "\n",
    "Welcome to our exercise notebook on data analysis and time series forecasting with sktime! This notebook will explore some tools for analyzing data and further show a small pipline approach to forecast future values. This notebook will provide you with some insights and hands-on experience in working with time series data. Therefore, let's get started and dive into the exciting world of data analysis and time series forecasting!\n",
    "\n",
    "This is an interactive notebook and also includes some work assignments. Typical tasks are adding lines of code, documenting observations. Work orders are always marked in the color <span style=\"color:#A00000\"> **red** </span>. We suggest you work in pairs or small groups so that you can share observations and discuss the tasks together.\n",
    "\n",
    "___\n"
   ]
  },
  {
   "cell_type": "markdown",
   "metadata": {},
   "source": [
    "## Agenda\n",
    "\n",
    "1. Introduction, Agenda, learning goals and data loading\n",
    "\n",
    "2. Data Analysis\n",
    "\n",
    "3. Forecasting Excercise\n",
    "\n",
    "___\n"
   ]
  },
  {
   "cell_type": "markdown",
   "metadata": {
    "collapsed": false,
    "id": "XGm5xu08Pngx",
    "jupyter": {
     "outputs_hidden": false
    },
    "pycharm": {
     "name": "#%% md\n"
    }
   },
   "source": [
    "##  Learning Goals\n",
    "\n",
    "### Learning goals data analysis and time series analysis\n",
    "\n",
    "    - Enumerate different properties of time series e.g. seasonality    \n",
    "    - Analyze energy time series and recognize and evaluate seasonal patterns\n",
    "    - Derive and design appropriate calendrical features by considering seasonality and autocorellation function.\n",
    "\n",
    "\n",
    "### Learning goals machine learning\n",
    "    - Know basic Concepts of skTime\n",
    "    - Know the basic Concept of pipelining\n",
    "\n",
    "___\n",
    "\n"
   ]
  },
  {
   "cell_type": "markdown",
   "metadata": {},
   "source": [
    "## IEEE Case 9\n",
    "\n",
    "\n",
    "\n",
    "___"
   ]
  },
  {
   "cell_type": "markdown",
   "metadata": {},
   "source": [
    "\n",
    "# **1. Data loading and first preprocessing**\n",
    "As a basis for the data analysis we need data in the first place. This publically available data set is described here: [Full Dataset Introduction](https://data.open-power-system-data.org/household_data/2020-04-15)\n",
    "\n",
    "Here we have taken only a subset of the data, since we want to deal with only one building. Our choice is the industrial building 3. All the data is scaled in kWh. The building has an installed pv and an energy demand.\n",
    "\n"
   ]
  },
  {
   "cell_type": "code",
   "execution_count": 1,
   "metadata": {},
   "outputs": [],
   "source": [
    "import pandas as pd\n",
    "data = pd.read_csv('https://data.open-power-system-data.org/household_data/2020-04-15/household_data_60min_singleindex.csv', date_format='%Y-%m-%dT%H:%M:%SZ', index_col = \"utc_timestamp\", parse_dates=True , sep=',')\n",
    "data.index = pd.to_datetime(data.index, utc=True)"
   ]
  },
  {
   "cell_type": "code",
   "execution_count": 2,
   "metadata": {},
   "outputs": [],
   "source": [
    "import statsmodels.api as sm\n",
    "from matplotlib import pylab\n",
    "from pylab import *\n",
    "\n",
    "\n",
    "# Basic configuration to get beautiful pictures\n",
    "pylab.rcParams['figure.figsize'] = (16, 9)\n",
    "\n",
    "# Get the relevant data for this excercise and resample it to hourly resolution to save runtime complexity\n",
    "data[\"demand\"] = data[\"DE_KN_industrial3_grid_import\"].diff(1)\n",
    "data[\"solar\"] = (data[\"DE_KN_industrial3_pv_facade\"].diff(1) + data[\"DE_KN_industrial3_pv_roof\"].diff(1))\n",
    "\n",
    "# shift the index of the data by one interval to get the correct time alignment\n",
    "data.index = data.index - pd.Timedelta(hours=1)\n",
    "\n",
    "# Omit data without values\n",
    "data = data[[\"demand\",\"solar\"]].dropna()\n",
    "# Let the data start with a full day and end with a full day\n",
    "data =  data[(data.index >= pd.to_datetime(\"2016-11-03\",utc=True)) &  (data.index < pd.to_datetime(\"2017-06-04\",utc=True))]\n",
    "data = data.asfreq('1h')"
   ]
  },
  {
   "cell_type": "markdown",
   "metadata": {},
   "source": [
    "# **2. Data Analysis**\n",
    "\n",
    "<img src=\"https://imgs.xkcd.com/comics/data_trap.png\" width=\"400\" height=\"400\">\n",
    "\n",
    "[This xkcd comic you can find here](https://xkcd.com/2582/)"
   ]
  }
 ],
 "metadata": {
  "colab": {
   "provenance": []
  },
  "kernelspec": {
   "display_name": "excercise_2025",
   "language": "python",
   "name": "python3"
  },
  "language_info": {
   "codemirror_mode": {
    "name": "ipython",
    "version": 3
   },
   "file_extension": ".py",
   "mimetype": "text/x-python",
   "name": "python",
   "nbconvert_exporter": "python",
   "pygments_lexer": "ipython3",
   "version": "3.11.13"
  }
 },
 "nbformat": 4,
 "nbformat_minor": 4
}
